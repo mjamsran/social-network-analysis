{
  "cells": [
    {
      "cell_type": "code",
      "execution_count": null,
      "metadata": {
        "id": "3RGDkpbUCy6j"
      },
      "outputs": [],
      "source": [
        "import dynetx as dn\n",
        "import networkx as nx\n",
        "import random\n",
        "\n",
        "def read_net(filename):\n",
        "    g = nx.Graph()\n",
        "    with open(filename) as f:\n",
        "        f.readline()\n",
        "        for l in f:\n",
        "            l = l.split(\",\")\n",
        "            g.add_edge(l[0], l[1])\n",
        "    return g\n",
        "\n",
        "g = dn.DynGraph()"
      ]
    },
    {
      "cell_type": "code",
      "execution_count": null,
      "metadata": {
        "id": "UWOt3Ys9Cy6j"
      },
      "outputs": [],
      "source": [
        "for t in range(1, 9):\n",
        "    er = read_net(f'data/asioaf/got-s{t}-edges.csv')\n",
        "    g.add_interactions_from(er.edges, t=t)"
      ]
    },
    {
      "cell_type": "code",
      "execution_count": null,
      "metadata": {
        "id": "0-nrMM1UCy6j",
        "outputId": "a75da4cc-ee3f-4bc1-aa88-c2eaef01fdda"
      },
      "outputs": [
        {
          "data": {
            "text/plain": [
              "[1, 2, 3, 4, 5, 6, 7, 8]"
            ]
          },
          "execution_count": 3,
          "metadata": {},
          "output_type": "execute_result"
        }
      ],
      "source": [
        "g.temporal_snapshots_ids()"
      ]
    },
    {
      "cell_type": "code",
      "execution_count": null,
      "metadata": {
        "id": "HOnETwKKCy6k"
      },
      "outputs": [],
      "source": [
        "g1 = g.time_slice(1)"
      ]
    },
    {
      "cell_type": "code",
      "execution_count": null,
      "metadata": {
        "id": "Gq2uakjECy6k",
        "outputId": "71018d67-236d-4d77-adee-cd9fda61a3cd"
      },
      "outputs": [
        {
          "data": {
            "text/plain": [
              "(dynetx.classes.dyngraph.DynGraph, 126, 549)"
            ]
          },
          "execution_count": 5,
          "metadata": {},
          "output_type": "execute_result"
        }
      ],
      "source": [
        "type(g1), g1.number_of_nodes(), g1.number_of_edges()"
      ]
    },
    {
      "cell_type": "code",
      "execution_count": null,
      "metadata": {
        "id": "L5rEvpFgCy6k"
      },
      "outputs": [],
      "source": [
        "g0_3 = g.time_slice(0, 3)"
      ]
    },
    {
      "cell_type": "code",
      "execution_count": null,
      "metadata": {
        "id": "tUIsk0ILCy6k",
        "outputId": "e63b16c9-8004-412c-86c6-75bf978d6f5e"
      },
      "outputs": [
        {
          "data": {
            "text/plain": [
              "(dynetx.classes.dyngraph.DynGraph, 237, 1182, {1: 78.5, 2: 79.0})"
            ]
          },
          "execution_count": 7,
          "metadata": {},
          "output_type": "execute_result"
        }
      ],
      "source": [
        "type(g0_3), g0_3.number_of_nodes(), g0_3.number_of_edges(), g0_3.interactions_per_snapshots()"
      ]
    },
    {
      "cell_type": "code",
      "execution_count": null,
      "metadata": {
        "id": "HdyAJzeCCy6k"
      },
      "outputs": [],
      "source": [
        "g1_flat = nx.Graph(g1.edges())"
      ]
    },
    {
      "cell_type": "code",
      "execution_count": null,
      "metadata": {
        "id": "4nWeQuOOCy6k",
        "outputId": "b226d737-a098-42f4-d756-cc87b07a7cf7"
      },
      "outputs": [
        {
          "data": {
            "text/plain": [
              "(networkx.classes.graph.Graph, 126, 549)"
            ]
          },
          "execution_count": 9,
          "metadata": {},
          "output_type": "execute_result"
        }
      ],
      "source": [
        "type(g1_flat), g1_flat.number_of_nodes(), g1_flat.number_of_edges()"
      ]
    },
    {
      "cell_type": "code",
      "execution_count": null,
      "metadata": {
        "id": "Nt83c0gMCy6l",
        "outputId": "341cdc41-3f99-4f6f-97f5-0ca09a9ef21a"
      },
      "outputs": [
        {
          "name": "stdout",
          "output_type": "stream",
          "text": [
            "Number interactions: temporal distance\t{0: 3307, 1: 8}\n"
          ]
        }
      ],
      "source": [
        "r = g.inter_event_time_distribution()\n",
        "print(f\"Number interactions: temporal distance\\t{r}\")"
      ]
    },
    {
      "cell_type": "code",
      "execution_count": null,
      "metadata": {
        "id": "Q07T-o5YCy6l",
        "outputId": "5ceddd09-84a7-4dcb-dd16-d2da5caefb99"
      },
      "outputs": [
        {
          "name": "stdout",
          "output_type": "stream",
          "text": [
            "Number interactions: temporal distance\t{0: 137, 1: 8}\n"
          ]
        }
      ],
      "source": [
        "r = g.inter_event_time_distribution(\"ARYA\")\n",
        "print(f\"Number interactions: temporal distance\\t{r}\")"
      ]
    },
    {
      "cell_type": "code",
      "execution_count": null,
      "metadata": {
        "id": "cgv29TvDCy6l"
      },
      "outputs": [],
      "source": [
        "u = 'JON'\n",
        "v = 'ARYA'"
      ]
    },
    {
      "cell_type": "code",
      "execution_count": null,
      "metadata": {
        "id": "0xllgj-2Cy6l",
        "outputId": "668a0f83-afa5-4ea0-b7f3-28c4ab51a473"
      },
      "outputs": [
        {
          "name": "stdout",
          "output_type": "stream",
          "text": [
            "Number interactions: temporal distance\t{6: 1, 1: 1}\n"
          ]
        }
      ],
      "source": [
        "r = g.inter_event_time_distribution(u, v)\n",
        "print(f\"Number interactions: temporal distance\\t{r}\")"
      ]
    },
    {
      "cell_type": "code",
      "execution_count": null,
      "metadata": {
        "id": "xwdcYgmuCy6l",
        "outputId": "60faaab0-5996-44c4-c6b2-2f6ea014b491"
      },
      "outputs": [
        {
          "data": {
            "text/plain": [
              "27"
            ]
          },
          "execution_count": 51,
          "metadata": {},
          "output_type": "execute_result"
        }
      ],
      "source": [
        "g.degree(t=2)['ARYA']"
      ]
    },
    {
      "cell_type": "code",
      "execution_count": null,
      "metadata": {
        "id": "CMwcdhvXCy6l",
        "outputId": "d63485db-58c6-4083-b376-ea0e9f4bfc55"
      },
      "outputs": [
        {
          "data": {
            "text/plain": [
              "0.2977216748768473"
            ]
          },
          "execution_count": 52,
          "metadata": {},
          "output_type": "execute_result"
        }
      ],
      "source": [
        "g.coverage()"
      ]
    },
    {
      "cell_type": "code",
      "execution_count": null,
      "metadata": {
        "id": "fL05GV6RCy6l",
        "outputId": "cabf8c84-f9ee-4a2e-8d6e-4aa211682b50"
      },
      "outputs": [
        {
          "data": {
            "text/plain": [
              "0.625"
            ]
          },
          "execution_count": 53,
          "metadata": {},
          "output_type": "execute_result"
        }
      ],
      "source": [
        "g.node_contribution(\"BERIC\")"
      ]
    },
    {
      "cell_type": "code",
      "execution_count": null,
      "metadata": {
        "id": "hElMe1cqCy6l",
        "outputId": "26cf053d-4be1-42d4-c18b-8b4a26ffda51"
      },
      "outputs": [
        {
          "data": {
            "text/plain": [
              "0.375"
            ]
          },
          "execution_count": 54,
          "metadata": {},
          "output_type": "execute_result"
        }
      ],
      "source": [
        "g.edge_contribution(u, v)"
      ]
    },
    {
      "cell_type": "code",
      "execution_count": null,
      "metadata": {
        "id": "S9AYhDzeCy6l",
        "outputId": "64316118-43c5-4c95-be49-8f1e0448b9ef"
      },
      "outputs": [
        {
          "data": {
            "text/plain": [
              "1.0"
            ]
          },
          "execution_count": 55,
          "metadata": {},
          "output_type": "execute_result"
        }
      ],
      "source": [
        "g.node_pair_uniformity(u, v)"
      ]
    },
    {
      "cell_type": "code",
      "execution_count": null,
      "metadata": {
        "id": "sFRm8ZkJCy6l",
        "outputId": "3c8a5a9a-ff39-4466-8069-8c5f06c57307"
      },
      "outputs": [
        {
          "data": {
            "text/plain": [
              "0.06686633244351846"
            ]
          },
          "execution_count": 56,
          "metadata": {},
          "output_type": "execute_result"
        }
      ],
      "source": [
        "g.density()"
      ]
    },
    {
      "cell_type": "code",
      "execution_count": null,
      "metadata": {
        "id": "ZVEjPOP1Cy6m",
        "outputId": "d1f7ecb1-4951-47a9-fe71-2a07cabf8a26"
      },
      "outputs": [
        {
          "data": {
            "text/plain": [
              "0.2295760082730093"
            ]
          },
          "execution_count": 57,
          "metadata": {},
          "output_type": "execute_result"
        }
      ],
      "source": [
        "g.node_density(u)"
      ]
    },
    {
      "cell_type": "code",
      "execution_count": null,
      "metadata": {
        "id": "5TQD56yxCy6m",
        "outputId": "9f0891b9-608d-4a7f-fb79-71a21b53355e"
      },
      "outputs": [
        {
          "data": {
            "text/plain": [
              "0.375"
            ]
          },
          "execution_count": 58,
          "metadata": {},
          "output_type": "execute_result"
        }
      ],
      "source": [
        "g.pair_density(u, v)"
      ]
    },
    {
      "cell_type": "code",
      "execution_count": null,
      "metadata": {
        "id": "FBlOijvcCy6m",
        "outputId": "7ec9aee2-bbec-44af-bab6-67ef89f82d12"
      },
      "outputs": [
        {
          "name": "stdout",
          "output_type": "stream",
          "text": [
            "1\t0.06971428571428571\n",
            "2\t0.05886627906976744\n",
            "3\t0.06608969315499606\n",
            "4\t0.04535563715490276\n",
            "5\t0.05640222190571144\n",
            "6\t0.05404055538907202\n",
            "7\t0.1271604938271605\n",
            "8\t0.20473898556090336\n"
          ]
        }
      ],
      "source": [
        "for t in g.temporal_snapshots_ids():\n",
        "    print(f\"{t}\\t{g.snapshot_density(t)}\")"
      ]
    },
    {
      "cell_type": "code",
      "execution_count": null,
      "metadata": {
        "id": "yFcfl5wKCy6m"
      },
      "outputs": [],
      "source": [
        "import dynetx.algorithms as al\n",
        "paths = al.time_respecting_paths(g, \"GENDRY\", \"GREY_WORM\", start=1, end=5)"
      ]
    },
    {
      "cell_type": "code",
      "execution_count": null,
      "metadata": {
        "id": "oOY5JGK1Cy6m",
        "outputId": "6e27e2a1-5194-4f9a-b373-974d3bdb68ed"
      },
      "outputs": [
        {
          "data": {
            "text/plain": [
              "[('GENDRY', 'NED', 1),\n",
              " ('NED', 'ROBERT', 2),\n",
              " ('ROBERT', 'BARRISTAN', 3),\n",
              " ('BARRISTAN', 'GREY_WORM', 4)]"
            ]
          },
          "execution_count": 40,
          "metadata": {},
          "output_type": "execute_result"
        }
      ],
      "source": [
        "p = paths[0]\n",
        "p"
      ]
    },
    {
      "cell_type": "code",
      "execution_count": null,
      "metadata": {
        "id": "l1s0x5yGCy6n",
        "outputId": "7f475f34-89a1-4012-e965-a92ace966799"
      },
      "outputs": [
        {
          "data": {
            "text/plain": [
              "(3, 4)"
            ]
          },
          "execution_count": 41,
          "metadata": {},
          "output_type": "execute_result"
        }
      ],
      "source": [
        "al.path_duration(p), al.path_length(p)"
      ]
    },
    {
      "cell_type": "code",
      "execution_count": null,
      "metadata": {
        "id": "fDU2Mlb5Cy6n"
      },
      "outputs": [],
      "source": [
        "annotated = al.annotate_paths(paths)"
      ]
    },
    {
      "cell_type": "markdown",
      "source": [
        "Shortest зам нь хамгийн бага алхам (edges) ашигладаг замыг хэлнэ. Энэ нь зангилааны хоорондох зай эсвэл цагийг тооцдоггүй, харин шилжилтийн тоог харгалзан үздэг."
      ],
      "metadata": {
        "id": "b-vS7irADTKH"
      }
    },
    {
      "cell_type": "code",
      "execution_count": null,
      "metadata": {
        "id": "3MCxndUuCy6n",
        "outputId": "0c342f73-a54f-4f57-f5f4-a6d25b6bf06f"
      },
      "outputs": [
        {
          "data": {
            "text/plain": [
              "[[('GENDRY', 'NED', 1), ('NED', 'TYRION', 2), ('TYRION', 'GREY_WORM', 5)],\n",
              " [('GENDRY', 'NED', 1), ('NED', 'TYRION', 3), ('TYRION', 'GREY_WORM', 5)],\n",
              " [('GENDRY', 'NED', 1), ('NED', 'TYRION', 4), ('TYRION', 'GREY_WORM', 5)],\n",
              " [('GENDRY', 'VARYS', 1), ('VARYS', 'TYRION', 2), ('TYRION', 'GREY_WORM', 5)],\n",
              " [('GENDRY', 'VARYS', 1), ('VARYS', 'TYRION', 3), ('TYRION', 'GREY_WORM', 5)],\n",
              " [('GENDRY', 'VARYS', 1),\n",
              "  ('VARYS', 'DAENERYS', 4),\n",
              "  ('DAENERYS', 'GREY_WORM', 5)],\n",
              " [('GENDRY', 'VARYS', 1), ('VARYS', 'JORAH', 4), ('JORAH', 'GREY_WORM', 5)],\n",
              " [('GENDRY', 'VARYS', 1),\n",
              "  ('VARYS', 'BARRISTAN', 4),\n",
              "  ('BARRISTAN', 'GREY_WORM', 5)],\n",
              " [('GENDRY', 'VARYS', 1), ('VARYS', 'TYRION', 4), ('TYRION', 'GREY_WORM', 5)],\n",
              " [('GENDRY', 'ARYA', 1), ('ARYA', 'TYRION', 2), ('TYRION', 'GREY_WORM', 5)],\n",
              " [('GENDRY', 'NED', 2), ('NED', 'TYRION', 3), ('TYRION', 'GREY_WORM', 5)],\n",
              " [('GENDRY', 'NED', 2), ('NED', 'TYRION', 4), ('TYRION', 'GREY_WORM', 5)],\n",
              " [('GENDRY', 'TYWIN', 2), ('TYWIN', 'TYRION', 3), ('TYRION', 'GREY_WORM', 5)],\n",
              " [('GENDRY', 'TYWIN', 2), ('TYWIN', 'TYRION', 4), ('TYRION', 'GREY_WORM', 5)],\n",
              " [('GENDRY', 'MOUNTAIN', 2),\n",
              "  ('MOUNTAIN', 'TYRION', 4),\n",
              "  ('TYRION', 'GREY_WORM', 5)],\n",
              " [('GENDRY', 'TYWIN', 3), ('TYWIN', 'TYRION', 4), ('TYRION', 'GREY_WORM', 5)],\n",
              " [('GENDRY', 'TYWIN', 3), ('TYWIN', 'TYRION', 4), ('TYRION', 'GREY_WORM', 5)]]"
            ]
          },
          "execution_count": 44,
          "metadata": {},
          "output_type": "execute_result"
        }
      ],
      "source": [
        "annotated['shortest']"
      ]
    },
    {
      "cell_type": "markdown",
      "source": [
        "Хамгийн хурдан зам нь шилжилт (edges) бүртэй холбоотой жин эсвэл зардлыг харгалзан үздэг. Энэ нь цаг хугацаа, зай эсвэл бусад холбогдох хүчин зүйлүүд гэх мэт нийт жинг багасгах зам юм."
      ],
      "metadata": {
        "id": "-PT49PWoDa3m"
      }
    },
    {
      "cell_type": "code",
      "execution_count": null,
      "metadata": {
        "id": "ignITRKqCy6n",
        "outputId": "15ffda09-837f-47cc-97db-95cd236d2265"
      },
      "outputs": [
        {
          "data": {
            "text/plain": [
              "[[('GENDRY', 'TYWIN', 3), ('TYWIN', 'TYRION', 4), ('TYRION', 'GREY_WORM', 5)],\n",
              " [('GENDRY', 'TYWIN', 3), ('TYWIN', 'TYRION', 4), ('TYRION', 'GREY_WORM', 5)]]"
            ]
          },
          "execution_count": 45,
          "metadata": {},
          "output_type": "execute_result"
        }
      ],
      "source": [
        "annotated['fastest']"
      ]
    },
    {
      "cell_type": "markdown",
      "source": [
        "shorest_fastest нь хамгийн богино алхам (edges) ба хамгийн хурдан шилжилтийг (хамгийн бага зардал) хоёуланг нь хослуулах зорилготой юм. Зарим тохиолдолд зам нь эхлээд хамгийн богино тооны ирмэгийг эрэмбэлж болох бөгөөд хэрэв олон ийм зам байгаа бол хамгийн бага нийт өртөгтэйг сонгоно."
      ],
      "metadata": {
        "id": "8YIgYtCRDfQK"
      }
    },
    {
      "cell_type": "code",
      "execution_count": null,
      "metadata": {
        "id": "Z1bsdQOwCy6n",
        "outputId": "dd9cf8b0-cca4-4635-c4c9-f44bd72b9cdc"
      },
      "outputs": [
        {
          "data": {
            "text/plain": [
              "[[('GENDRY', 'TYWIN', 3), ('TYWIN', 'TYRION', 4), ('TYRION', 'GREY_WORM', 5)]]"
            ]
          },
          "execution_count": 46,
          "metadata": {},
          "output_type": "execute_result"
        }
      ],
      "source": [
        "annotated['shortest_fastest']"
      ]
    },
    {
      "cell_type": "markdown",
      "source": [
        "fastest shortest зам нь үнэндээ хамгийн богино хурдан зам-тай ижил байдаг, учир нь энэ нь хамгийн богино алхам (хажуугийн) тоог тооцохдоо нийт цаг (зардал)-ийг хамгийн бага болгохыг зорьдог. Хэрвээ шалгуур нь адил бол үр дүн нь ялгарахгүй байж болно."
      ],
      "metadata": {
        "id": "Ec-UNHMMEZUm"
      }
    },
    {
      "cell_type": "code",
      "execution_count": null,
      "metadata": {
        "id": "ys9YAjpyCy6n",
        "outputId": "e0e42cfb-9881-479a-9e58-97c142cd663d"
      },
      "outputs": [
        {
          "data": {
            "text/plain": [
              "[[('GENDRY', 'TYWIN', 3), ('TYWIN', 'TYRION', 4), ('TYRION', 'GREY_WORM', 5)]]"
            ]
          },
          "execution_count": 47,
          "metadata": {},
          "output_type": "execute_result"
        }
      ],
      "source": [
        "annotated['fastest_shortest']"
      ]
    },
    {
      "cell_type": "markdown",
      "source": [
        "Foremost зам нь замын дагуу явж буй дэс дараалал буюу үйл явдлын дараалалд анхаардаг бөгөөд аяллын явцад чухал эсвэл илүү ач холбогдолтой зангилаануудыг эхлээд дамжин өнгөрөхийг зорьдог. Энэ нь зөвхөн хурд эсвэл зайд төвлөрөхгүй, харин аяллын явцад чухал эсвэл гол зангилаануудыг давуу эрх олгохыг илэрхийлдэг."
      ],
      "metadata": {
        "id": "fI1SKfHeDw-U"
      }
    },
    {
      "cell_type": "code",
      "execution_count": null,
      "metadata": {
        "id": "LQlPyEtYCy6n",
        "outputId": "085438ec-e0ab-4480-e87b-57f9f83b21db"
      },
      "outputs": [
        {
          "data": {
            "text/plain": [
              "[[('GENDRY', 'NED', 1),\n",
              "  ('NED', 'ROBERT', 2),\n",
              "  ('ROBERT', 'BARRISTAN', 3),\n",
              "  ('BARRISTAN', 'GREY_WORM', 4)],\n",
              " [('GENDRY', 'NED', 1),\n",
              "  ('NED', 'ROBERT', 2),\n",
              "  ('ROBERT', 'DAENERYS', 3),\n",
              "  ('DAENERYS', 'GREY_WORM', 4)],\n",
              " [('GENDRY', 'NED', 1),\n",
              "  ('NED', 'ROBERT', 2),\n",
              "  ('ROBERT', 'JORAH', 3),\n",
              "  ('JORAH', 'GREY_WORM', 4)]]"
            ]
          },
          "execution_count": 48,
          "metadata": {},
          "output_type": "execute_result"
        }
      ],
      "source": [
        "annotated['foremost']"
      ]
    }
  ],
  "metadata": {
    "kernelspec": {
      "display_name": "Python 3",
      "language": "python",
      "name": "python3"
    },
    "language_info": {
      "codemirror_mode": {
        "name": "ipython",
        "version": 3
      },
      "file_extension": ".py",
      "mimetype": "text/x-python",
      "name": "python",
      "nbconvert_exporter": "python",
      "pygments_lexer": "ipython3",
      "version": "3.7.4"
    },
    "colab": {
      "provenance": []
    }
  },
  "nbformat": 4,
  "nbformat_minor": 0
}